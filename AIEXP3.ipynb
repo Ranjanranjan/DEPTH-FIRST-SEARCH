{
  "nbformat": 4,
  "nbformat_minor": 0,
  "metadata": {
    "colab": {
      "provenance": []
    },
    "kernelspec": {
      "name": "python3",
      "display_name": "Python 3"
    },
    "language_info": {
      "name": "python"
    }
  },
  "cells": [
    {
      "cell_type": "markdown",
      "source": [
        "Name : Ranjan K"
      ],
      "metadata": {
        "id": "shPUsMI1XW99"
      }
    },
    {
      "cell_type": "markdown",
      "source": [
        "Reg No. : 212222230116"
      ],
      "metadata": {
        "id": "34WLWmK-XatG"
      }
    },
    {
      "cell_type": "code",
      "execution_count": 2,
      "metadata": {
        "colab": {
          "base_uri": "https://localhost:8080/"
        },
        "id": "22jAkQ2UWUvd",
        "outputId": "3da267ae-4336-4a5e-8cb7-ff4c76e74646"
      },
      "outputs": [
        {
          "output_type": "stream",
          "name": "stdout",
          "text": [
            "7 9\n",
            "A B\n",
            "A C\n",
            "A F \n",
            "C E\n",
            "C F\n",
            "C D\n",
            "D E\n",
            "D G\n",
            "G F\n",
            "['A', 'B', 'C', 'F', 'E', 'D', 'G']\n"
          ]
        }
      ],
      "source": [
        "from collections import deque\n",
        "from collections import defaultdict\n",
        "\n",
        "\n",
        "'''\n",
        "V E\n",
        "FOR EVERY EDGE\n",
        "U V\n",
        "7 9\n",
        "A B\n",
        "A C\n",
        "A F\n",
        "C E\n",
        "C F\n",
        "C D\n",
        "D E\n",
        "D G\n",
        "G F\n",
        "'''\n",
        "def bfs(graph,start,visited,path):\n",
        "    queue = deque()\n",
        "    path.append(start)\n",
        "    queue.append(start)\n",
        "    visited[start] = True\n",
        "    while len(queue) != 0:\n",
        "        tmpnode = queue.popleft()\n",
        "        for neighbour in graph[tmpnode]:\n",
        "            if visited[neighbour] == False:\n",
        "                path.append(neighbour)\n",
        "                queue.append(neighbour)\n",
        "                visited[neighbour] = True\n",
        "    return path\n",
        "\n",
        "graph = defaultdict(list)\n",
        "v,e = map(int,input().split())\n",
        "for i in range(e):\n",
        "    u,v = map(str,input().split())\n",
        "    graph[u].append(v)\n",
        "    graph[v].append(u)\n",
        "\n",
        "if '0' in graph:\n",
        "    start = '0'\n",
        "else:\n",
        "    start = 'A'\n",
        "path = []\n",
        "visited = defaultdict(bool)\n",
        "traversedpath = bfs(graph,start,visited,path)\n",
        "print(traversedpath)"
      ]
    }
  ]
}